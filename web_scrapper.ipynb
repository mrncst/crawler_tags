{
 "cells": [
  {
   "cell_type": "code",
   "execution_count": 16,
   "metadata": {
    "collapsed": true
   },
   "outputs": [],
   "source": [
    "# Code by Mariana Castilho\n",
    "# 03/03/2018\n",
    "# Import libraries\n",
    "from bs4 import BeautifulSoup as bs\n",
    "import requests\n",
    "import re\n",
    "from pprint import pprint\n",
    "import xml.etree.ElementTree as et\n",
    "import pandas as pd\n",
    "import numpy as np"
   ]
  },
  {
   "cell_type": "code",
   "execution_count": 2,
   "metadata": {
    "collapsed": true
   },
   "outputs": [],
   "source": [
    "# Read \n",
    "claro = pd.read_excel('claro_urls.xlsx')"
   ]
  },
  {
   "cell_type": "code",
   "execution_count": 3,
   "metadata": {},
   "outputs": [
    {
     "data": {
      "text/html": [
       "<div>\n",
       "<style scoped>\n",
       "    .dataframe tbody tr th:only-of-type {\n",
       "        vertical-align: middle;\n",
       "    }\n",
       "\n",
       "    .dataframe tbody tr th {\n",
       "        vertical-align: top;\n",
       "    }\n",
       "\n",
       "    .dataframe thead th {\n",
       "        text-align: right;\n",
       "    }\n",
       "</style>\n",
       "<table border=\"1\" class=\"dataframe\">\n",
       "  <thead>\n",
       "    <tr style=\"text-align: right;\">\n",
       "      <th></th>\n",
       "      <th>urls</th>\n",
       "    </tr>\n",
       "  </thead>\n",
       "  <tbody>\n",
       "    <tr>\n",
       "      <th>0</th>\n",
       "      <td>https://www.claro.com.br/telefone-fixo/rural</td>\n",
       "    </tr>\n",
       "    <tr>\n",
       "      <th>1</th>\n",
       "      <td>https://www.claro.com.br/internet/rede-net-cla...</td>\n",
       "    </tr>\n",
       "    <tr>\n",
       "      <th>2</th>\n",
       "      <td>https://www.claro.com.br/atendimento/fale-com-...</td>\n",
       "    </tr>\n",
       "    <tr>\n",
       "      <th>3</th>\n",
       "      <td>https://www.claro.com.br/atendimento/renegocie...</td>\n",
       "    </tr>\n",
       "    <tr>\n",
       "      <th>4</th>\n",
       "      <td>https://www.claro.com.br/atendimento/solucoes-...</td>\n",
       "    </tr>\n",
       "  </tbody>\n",
       "</table>\n",
       "</div>"
      ],
      "text/plain": [
       "                                                urls\n",
       "0       https://www.claro.com.br/telefone-fixo/rural\n",
       "1  https://www.claro.com.br/internet/rede-net-cla...\n",
       "2  https://www.claro.com.br/atendimento/fale-com-...\n",
       "3  https://www.claro.com.br/atendimento/renegocie...\n",
       "4  https://www.claro.com.br/atendimento/solucoes-..."
      ]
     },
     "execution_count": 3,
     "metadata": {},
     "output_type": "execute_result"
    }
   ],
   "source": [
    "claro.head()"
   ]
  },
  {
   "cell_type": "code",
   "execution_count": 4,
   "metadata": {},
   "outputs": [
    {
     "data": {
      "text/html": [
       "<div>\n",
       "<style scoped>\n",
       "    .dataframe tbody tr th:only-of-type {\n",
       "        vertical-align: middle;\n",
       "    }\n",
       "\n",
       "    .dataframe tbody tr th {\n",
       "        vertical-align: top;\n",
       "    }\n",
       "\n",
       "    .dataframe thead th {\n",
       "        text-align: right;\n",
       "    }\n",
       "</style>\n",
       "<table border=\"1\" class=\"dataframe\">\n",
       "  <thead>\n",
       "    <tr style=\"text-align: right;\">\n",
       "      <th></th>\n",
       "      <th>urls</th>\n",
       "    </tr>\n",
       "  </thead>\n",
       "  <tbody>\n",
       "    <tr>\n",
       "      <th>0</th>\n",
       "      <td>https://www.claro.com.br/telefone-fixo/rural</td>\n",
       "    </tr>\n",
       "    <tr>\n",
       "      <th>1</th>\n",
       "      <td>https://www.claro.com.br/internet/rede-net-cla...</td>\n",
       "    </tr>\n",
       "    <tr>\n",
       "      <th>2</th>\n",
       "      <td>https://www.claro.com.br/atendimento/fale-com-...</td>\n",
       "    </tr>\n",
       "    <tr>\n",
       "      <th>3</th>\n",
       "      <td>https://www.claro.com.br/atendimento/renegocie...</td>\n",
       "    </tr>\n",
       "    <tr>\n",
       "      <th>4</th>\n",
       "      <td>https://www.claro.com.br/atendimento/solucoes-...</td>\n",
       "    </tr>\n",
       "  </tbody>\n",
       "</table>\n",
       "</div>"
      ],
      "text/plain": [
       "                                                urls\n",
       "0       https://www.claro.com.br/telefone-fixo/rural\n",
       "1  https://www.claro.com.br/internet/rede-net-cla...\n",
       "2  https://www.claro.com.br/atendimento/fale-com-...\n",
       "3  https://www.claro.com.br/atendimento/renegocie...\n",
       "4  https://www.claro.com.br/atendimento/solucoes-..."
      ]
     },
     "execution_count": 4,
     "metadata": {},
     "output_type": "execute_result"
    }
   ],
   "source": [
    "claro['urls'] = claro['urls'].astype(str)\n",
    "claro.head()"
   ]
  },
  {
   "cell_type": "code",
   "execution_count": 5,
   "metadata": {},
   "outputs": [
    {
     "data": {
      "text/plain": [
       "urls    https://www.claro.com.br/telefone-fixo/rural\n",
       "Name: 0, dtype: object"
      ]
     },
     "execution_count": 5,
     "metadata": {},
     "output_type": "execute_result"
    }
   ],
   "source": [
    "claro.iloc[0]"
   ]
  },
  {
   "cell_type": "code",
   "execution_count": 18,
   "metadata": {
    "collapsed": true
   },
   "outputs": [],
   "source": [
    "def crawl(url):\n",
    "    return requests.get(url)"
   ]
  },
  {
   "cell_type": "code",
   "execution_count": 7,
   "metadata": {
    "collapsed": true
   },
   "outputs": [],
   "source": [
    "# Download page\n",
    "page = crawl(claro.iloc[0,0])"
   ]
  },
  {
   "cell_type": "code",
   "execution_count": 8,
   "metadata": {},
   "outputs": [
    {
     "name": "stdout",
     "output_type": "stream",
     "text": [
      "200\n"
     ]
    }
   ],
   "source": [
    "# Check if status is 200, which means the request was successful\n",
    "print page.status_code"
   ]
  },
  {
   "cell_type": "code",
   "execution_count": 181,
   "metadata": {},
   "outputs": [
    {
     "name": "stdout",
     "output_type": "stream",
     "text": [
      "[<Response [200]>, <Response [200]>, <Response [200]>, <Response [200]>, <Response [200]>, <Response [200]>, <Response [200]>, <Response [200]>, <Response [200]>, <Response [200]>, <Response [200]>, <Response [200]>, <Response [200]>, <Response [200]>, <Response [200]>, <Response [200]>, <Response [200]>, <Response [200]>, <Response [200]>, <Response [200]>, <Response [200]>, <Response [200]>, <Response [200]>, <Response [200]>, <Response [200]>, <Response [200]>, <Response [200]>, <Response [200]>, <Response [200]>, <Response [200]>, <Response [200]>, <Response [200]>, <Response [200]>, <Response [200]>, <Response [200]>, <Response [200]>, <Response [200]>, <Response [200]>, <Response [200]>, <Response [200]>, <Response [200]>, <Response [200]>, <Response [200]>, <Response [200]>, <Response [200]>, <Response [200]>, <Response [200]>, <Response [200]>, <Response [200]>, <Response [200]>, <Response [200]>, <Response [200]>, <Response [200]>, <Response [200]>, <Response [200]>, <Response [200]>, <Response [200]>, <Response [200]>, <Response [200]>, <Response [200]>, <Response [200]>, <Response [200]>, <Response [200]>, <Response [200]>, <Response [200]>, <Response [200]>, <Response [200]>, <Response [200]>, <Response [200]>, <Response [200]>, <Response [200]>, <Response [200]>, <Response [200]>, <Response [200]>, <Response [200]>, <Response [200]>, <Response [200]>, <Response [200]>, <Response [200]>, <Response [200]>, <Response [200]>, <Response [200]>, <Response [200]>]\n"
     ]
    }
   ],
   "source": [
    "i = 0\n",
    "d = []\n",
    "while i < len(claro):\n",
    "    d.append(crawl(claro.iloc[i,0]))\n",
    "    i = i + 1\n",
    "    \n",
    "print d"
   ]
  },
  {
   "cell_type": "code",
   "execution_count": 20,
   "metadata": {
    "collapsed": true
   },
   "outputs": [],
   "source": [
    "i = 0\n",
    "d = []\n",
    "gtm_tag = 'gtm.js'"
   ]
  },
  {
   "cell_type": "code",
   "execution_count": 21,
   "metadata": {},
   "outputs": [
    {
     "name": "stdout",
     "output_type": "stream",
     "text": [
      "Has GTM\n",
      "Has GTM\n",
      "Has GTM\n",
      "Has GTM\n",
      "Has GTM\n",
      "Has GTM\n",
      "Has GTM\n",
      "Has GTM\n",
      "Has GTM\n",
      "Has GTM\n",
      "Has GTM\n",
      "Has GTM\n",
      "Has GTM\n",
      "Has GTM\n",
      "Has GTM\n",
      "Has GTM\n",
      "Has GTM\n",
      "Has GTM\n",
      "Has GTM\n",
      "Has GTM\n",
      "Has GTM\n",
      "Has GTM\n",
      "Has GTM\n",
      "Has GTM\n",
      "Has GTM\n",
      "Has GTM\n",
      "Has GTM\n",
      "Has GTM\n",
      "Has GTM\n",
      "Has GTM\n",
      "Doest not have GTM\n",
      "Has GTM\n",
      "Has GTM\n",
      "Has GTM\n",
      "Has GTM\n",
      "Has GTM\n",
      "Has GTM\n",
      "Has GTM\n",
      "Has GTM\n",
      "Has GTM\n",
      "Has GTM\n",
      "Has GTM\n",
      "Has GTM\n",
      "Has GTM\n",
      "Has GTM\n",
      "Has GTM\n",
      "Has GTM\n",
      "Has GTM\n",
      "Has GTM\n",
      "Has GTM\n",
      "Has GTM\n",
      "Has GTM\n",
      "Has GTM\n",
      "Has GTM\n",
      "Has GTM\n",
      "Has GTM\n",
      "Has GTM\n",
      "Has GTM\n",
      "Has GTM\n",
      "Has GTM\n",
      "Has GTM\n",
      "Has GTM\n",
      "Has GTM\n",
      "Has GTM\n",
      "Has GTM\n",
      "Has GTM\n",
      "Has GTM\n",
      "Has GTM\n",
      "Has GTM\n",
      "Has GTM\n",
      "Has GTM\n",
      "Has GTM\n",
      "Has GTM\n",
      "Has GTM\n",
      "Has GTM\n",
      "Has GTM\n",
      "Has GTM\n",
      "Has GTM\n",
      "Has GTM\n",
      "Has GTM\n",
      "Has GTM\n",
      "Has GTM\n",
      "Has GTM\n"
     ]
    }
   ],
   "source": [
    "while i < len(claro):\n",
    "    try:\n",
    "        d = crawl(claro.iloc[i,0])\n",
    "        soup = bs(d.content, 'html.parser')\n",
    "        script = soup.find_all('script')\n",
    "        script_string = str(script)\n",
    "        if script_string.index(gtm_tag) <> '[]':\n",
    "            print 'Has GTM'\n",
    "    except ValueError:\n",
    "        print 'Doest not have GTM'\n",
    "    i = i + 1"
   ]
  },
  {
   "cell_type": "code",
   "execution_count": 184,
   "metadata": {
    "collapsed": true
   },
   "outputs": [],
   "source": [
    "d = crawl(claro.iloc[1,0])"
   ]
  },
  {
   "cell_type": "code",
   "execution_count": 188,
   "metadata": {},
   "outputs": [
    {
     "data": {
      "text/plain": [
       "[<script data-dtconfig=\"featureHash=ICA2SVfjqrx|lastModification=1520131434916|dtVersion=10137171222133618|tp=500,50,0,1|agentUri=/dyna/ruxitagentjs_ICA2SVfjqrx_10137171222133618.js|reportUrl=/dyna/rb_bf54527jjp|rid=RID_781498489|rpid=-1015337213|domain=claro.com.br\" src=\"/dyna/ruxitagentjs_ICA2SVfjqrx_10137171222133618.js\" type=\"text/javascript\"></script>,\n",
       " <script data-dtconfig=\"featureHash=ICA2SVfjqrx|lastModification=1520131434916|dtVersion=10137171222133618|tp=500,50,0,1|agentUri=/dyna/ruxitagentjs_ICA2SVfjqrx_10137171222133618.js|reportUrl=/dyna/rb_bf54527jjp|rid=RID_25721028|rpid=-1186952667|domain=claro.com.br\" src=\"/dyna/ruxitagentjs_ICA2SVfjqrx_10137171222133618.js\" type=\"text/javascript\"></script>,\n",
       " <script>(function(w,d,s,l,i){w[l]=w[l]||[];w[l].push({'gtm.start': new Date().getTime(),event:'gtm.js'});var f=d.getElementsByTagName(s)[0], j=d.createElement(s),dl=l!='dataLayer'?'&l='+l:'';j.async=true;j.src='https://www.googletagmanager.com/gtm.js?id='+i+dl;f.parentNode.insertBefore(j,f);})(window,document,'script','dataLayer','GTM-TB4LW3L');</script>,\n",
       " <script>\\r\\n\\t\\t\\t(function(){\\r\\n\\t\\t\\t\\tvar preHomeHolder = document.getElementById(\"preHome\"),\\r\\n\\t\\t\\t\\tinlineStyle = preHomeHolder && preHomeHolder.getAttribute(\"data-background\"),\\r\\n\\t\\t\\t\\thead = document.head || document.getElementsByTagName('head')[0],\\r\\n\\t\\t    \\tstyle = document.createElement('style');\\r\\n\\t\\t\\t\\tstyle.type = 'text/css';\\r\\n\\t\\t\\t\\r\\n\\t\\t\\t\\tif(!inlineStyle) return;\\r\\n\\t\\t\\t\\t\\r\\n\\t\\t\\t\\tif (style.styleSheet){//IE\\r\\n\\t\\t\\t\\t  style.styleSheet.cssText = inlineStyle;\\r\\n\\t\\t\\t\\t} else {\\r\\n\\t\\t\\t\\t  style.appendChild(document.createTextNode(inlineStyle));\\r\\n\\t\\t\\t\\t}\\r\\n\\t\\t\\t\\thead.appendChild(style);\\r\\n\\t\\t\\t})();\\r\\n\\t</script>,\n",
       " <script data-main=\"/static/js/app\" src=\"/static/js/vendor/require.js\"></script>]"
      ]
     },
     "execution_count": 188,
     "metadata": {},
     "output_type": "execute_result"
    }
   ],
   "source": [
    "soup = bs(d.content, 'html.parser')\n",
    "soup.find_all('script')"
   ]
  },
  {
   "cell_type": "code",
   "execution_count": 39,
   "metadata": {},
   "outputs": [
    {
     "name": "stdout",
     "output_type": "stream",
     "text": [
      "[<script data-dtconfig=\"featureHash=ICA2SVfjqrx|lastModification=1520049203113|dtVersion=10137171222133618|tp=500,50,0,1|agentUri=/dyna/ruxitagentjs_ICA2SVfjqrx_10137171222133618.js|reportUrl=/dyna/rb_bf54527jjp|rid=RID_541886985|rpid=-245849295|domain=claro.com.br\" src=\"/dyna/ruxitagentjs_ICA2SVfjqrx_10137171222133618.js\" type=\"text/javascript\"></script>, <script data-dtconfig=\"featureHash=ICA2SVfjqrx|lastModification=1520049203113|dtVersion=10137171222133618|tp=500,50,0,1|agentUri=/dyna/ruxitagentjs_ICA2SVfjqrx_10137171222133618.js|reportUrl=/dyna/rb_bf54527jjp|rid=RID_-281647692|rpid=-1039711946|domain=claro.com.br\" src=\"/dyna/ruxitagentjs_ICA2SVfjqrx_10137171222133618.js\" type=\"text/javascript\"></script>, <script>(function(w,d,s,l,i){w[l]=w[l]||[];w[l].push({'gtm.start': new Date().getTime(),event:'gtm.js'});var f=d.getElementsByTagName(s)[0], j=d.createElement(s),dl=l!='dataLayer'?'&l='+l:'';j.async=true;j.src='https://www.googletagmanager.com/gtm.js?id='+i+dl;f.parentNode.insertBefore(j,f);})(window,document,'script','dataLayer','GTM-TB4LW3L');</script>, <script>\\n\\t\\t\\t(function(){\\n\\t\\t\\t\\tvar preHomeHolder = document.getElementById(\"preHome\"),\\n\\t\\t\\t\\tinlineStyle = preHomeHolder && preHomeHolder.getAttribute(\"data-background\"),\\n\\t\\t\\t\\thead = document.head || document.getElementsByTagName('head')[0],\\n\\t\\t    \\tstyle = document.createElement('style');\\n\\t\\t\\t\\tstyle.type = 'text/css';\\n\\t\\t\\t\\n\\t\\t\\t\\tif(!inlineStyle) return;\\n\\t\\t\\t\\t\\n\\t\\t\\t\\tif (style.styleSheet){//IE\\n\\t\\t\\t\\t  style.styleSheet.cssText = inlineStyle;\\n\\t\\t\\t\\t} else {\\n\\t\\t\\t\\t  style.appendChild(document.createTextNode(inlineStyle));\\n\\t\\t\\t\\t}\\n\\t\\t\\t\\thead.appendChild(style);\\n\\t\\t\\t})();\\n\\t</script>, <script data-main=\"/static/js/app\" src=\"/static/js/vendor/require.js\"></script>]\n"
     ]
    }
   ],
   "source": [
    "script = soup.find_all('script')\n",
    "print script"
   ]
  },
  {
   "cell_type": "code",
   "execution_count": 41,
   "metadata": {},
   "outputs": [
    {
     "name": "stdout",
     "output_type": "stream",
     "text": [
      "[<script data-dtconfig=\"featureHash=ICA2SVfjqrx|lastModification=1520049203113|dtVersion=10137171222133618|tp=500,50,0,1|agentUri=/dyna/ruxitagentjs_ICA2SVfjqrx_10137171222133618.js|reportUrl=/dyna/rb_bf54527jjp|rid=RID_541886985|rpid=-245849295|domain=claro.com.br\" src=\"/dyna/ruxitagentjs_ICA2SVfjqrx_10137171222133618.js\" type=\"text/javascript\"></script>, <script data-dtconfig=\"featureHash=ICA2SVfjqrx|lastModification=1520049203113|dtVersion=10137171222133618|tp=500,50,0,1|agentUri=/dyna/ruxitagentjs_ICA2SVfjqrx_10137171222133618.js|reportUrl=/dyna/rb_bf54527jjp|rid=RID_-281647692|rpid=-1039711946|domain=claro.com.br\" src=\"/dyna/ruxitagentjs_ICA2SVfjqrx_10137171222133618.js\" type=\"text/javascript\"></script>, <script>(function(w,d,s,l,i){w[l]=w[l]||[];w[l].push({'gtm.start': new Date().getTime(),event:'gtm.js'});var f=d.getElementsByTagName(s)[0], j=d.createElement(s),dl=l!='dataLayer'?'&l='+l:'';j.async=true;j.src='https://www.googletagmanager.com/gtm.js?id='+i+dl;f.parentNode.insertBefore(j,f);})(window,document,'script','dataLayer','GTM-TB4LW3L');</script>, <script>\\n\\t\\t\\t(function(){\\n\\t\\t\\t\\tvar preHomeHolder = document.getElementById(\"preHome\"),\\n\\t\\t\\t\\tinlineStyle = preHomeHolder && preHomeHolder.getAttribute(\"data-background\"),\\n\\t\\t\\t\\thead = document.head || document.getElementsByTagName('head')[0],\\n\\t\\t    \\tstyle = document.createElement('style');\\n\\t\\t\\t\\tstyle.type = 'text/css';\\n\\t\\t\\t\\n\\t\\t\\t\\tif(!inlineStyle) return;\\n\\t\\t\\t\\t\\n\\t\\t\\t\\tif (style.styleSheet){//IE\\n\\t\\t\\t\\t  style.styleSheet.cssText = inlineStyle;\\n\\t\\t\\t\\t} else {\\n\\t\\t\\t\\t  style.appendChild(document.createTextNode(inlineStyle));\\n\\t\\t\\t\\t}\\n\\t\\t\\t\\thead.appendChild(style);\\n\\t\\t\\t})();\\n\\t</script>, <script data-main=\"/static/js/app\" src=\"/static/js/vendor/require.js\"></script>]\n"
     ]
    }
   ],
   "source": [
    "script_string = str(script)\n",
    "print script_string"
   ]
  },
  {
   "cell_type": "code",
   "execution_count": 43,
   "metadata": {},
   "outputs": [
    {
     "data": {
      "text/plain": [
       "True"
      ]
     },
     "execution_count": 43,
     "metadata": {},
     "output_type": "execute_result"
    }
   ],
   "source": [
    "type('script_string') is str"
   ]
  },
  {
   "cell_type": "code",
   "execution_count": 44,
   "metadata": {
    "collapsed": true
   },
   "outputs": [],
   "source": [
    "gtm_tag = 'gtm.js'"
   ]
  },
  {
   "cell_type": "code",
   "execution_count": 80,
   "metadata": {
    "collapsed": true
   },
   "outputs": [],
   "source": [
    "def gtm_checker():\n",
    "    if script_string.index(gtm_tag)!=0:\n",
    "        return 1"
   ]
  },
  {
   "cell_type": "code",
   "execution_count": 81,
   "metadata": {},
   "outputs": [
    {
     "name": "stdout",
     "output_type": "stream",
     "text": [
      "1\n"
     ]
    }
   ],
   "source": [
    "foo()"
   ]
  },
  {
   "cell_type": "code",
   "execution_count": null,
   "metadata": {
    "collapsed": true
   },
   "outputs": [],
   "source": [
    "d = []\n",
    "for p in "
   ]
  }
 ],
 "metadata": {
  "kernelspec": {
   "display_name": "Python 2",
   "language": "python",
   "name": "python2"
  },
  "language_info": {
   "codemirror_mode": {
    "name": "ipython",
    "version": 2
   },
   "file_extension": ".py",
   "mimetype": "text/x-python",
   "name": "python",
   "nbconvert_exporter": "python",
   "pygments_lexer": "ipython2",
   "version": "2.7.14"
  }
 },
 "nbformat": 4,
 "nbformat_minor": 2
}
