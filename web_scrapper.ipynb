{
 "cells": [
  {
   "cell_type": "code",
   "execution_count": 2,
   "metadata": {
    "collapsed": true
   },
   "outputs": [],
   "source": [
    "# Code by Mariana Castilho\n",
    "# 03/03/2018\n",
    "# Import libraries\n",
    "from bs4 import BeautifulSoup as bs\n",
    "import requests\n",
    "import re\n",
    "from pprint import pprint\n",
    "import xml.etree.ElementTree as et\n",
    "import pandas as pd\n",
    "import numpy as np"
   ]
  },
  {
   "cell_type": "code",
   "execution_count": 3,
   "metadata": {
    "collapsed": true
   },
   "outputs": [],
   "source": [
    "# Read all the urls generated via sitemap\n",
    "claro = pd.read_excel('claro_urls.xlsx')"
   ]
  },
  {
   "cell_type": "code",
   "execution_count": 4,
   "metadata": {},
   "outputs": [
    {
     "data": {
      "text/html": [
       "<div>\n",
       "<style scoped>\n",
       "    .dataframe tbody tr th:only-of-type {\n",
       "        vertical-align: middle;\n",
       "    }\n",
       "\n",
       "    .dataframe tbody tr th {\n",
       "        vertical-align: top;\n",
       "    }\n",
       "\n",
       "    .dataframe thead th {\n",
       "        text-align: right;\n",
       "    }\n",
       "</style>\n",
       "<table border=\"1\" class=\"dataframe\">\n",
       "  <thead>\n",
       "    <tr style=\"text-align: right;\">\n",
       "      <th></th>\n",
       "      <th>urls</th>\n",
       "    </tr>\n",
       "  </thead>\n",
       "  <tbody>\n",
       "    <tr>\n",
       "      <th>0</th>\n",
       "      <td>https://www.claro.com.br/telefone-fixo/rural</td>\n",
       "    </tr>\n",
       "    <tr>\n",
       "      <th>1</th>\n",
       "      <td>https://www.claro.com.br/internet/rede-net-cla...</td>\n",
       "    </tr>\n",
       "    <tr>\n",
       "      <th>2</th>\n",
       "      <td>https://www.claro.com.br/atendimento/fale-com-...</td>\n",
       "    </tr>\n",
       "    <tr>\n",
       "      <th>3</th>\n",
       "      <td>https://www.claro.com.br/atendimento/renegocie...</td>\n",
       "    </tr>\n",
       "    <tr>\n",
       "      <th>4</th>\n",
       "      <td>https://www.claro.com.br/atendimento/solucoes-...</td>\n",
       "    </tr>\n",
       "  </tbody>\n",
       "</table>\n",
       "</div>"
      ],
      "text/plain": [
       "                                                urls\n",
       "0       https://www.claro.com.br/telefone-fixo/rural\n",
       "1  https://www.claro.com.br/internet/rede-net-cla...\n",
       "2  https://www.claro.com.br/atendimento/fale-com-...\n",
       "3  https://www.claro.com.br/atendimento/renegocie...\n",
       "4  https://www.claro.com.br/atendimento/solucoes-..."
      ]
     },
     "execution_count": 4,
     "metadata": {},
     "output_type": "execute_result"
    }
   ],
   "source": [
    "claro.head()"
   ]
  },
  {
   "cell_type": "code",
   "execution_count": 5,
   "metadata": {},
   "outputs": [
    {
     "data": {
      "text/html": [
       "<div>\n",
       "<style scoped>\n",
       "    .dataframe tbody tr th:only-of-type {\n",
       "        vertical-align: middle;\n",
       "    }\n",
       "\n",
       "    .dataframe tbody tr th {\n",
       "        vertical-align: top;\n",
       "    }\n",
       "\n",
       "    .dataframe thead th {\n",
       "        text-align: right;\n",
       "    }\n",
       "</style>\n",
       "<table border=\"1\" class=\"dataframe\">\n",
       "  <thead>\n",
       "    <tr style=\"text-align: right;\">\n",
       "      <th></th>\n",
       "      <th>urls</th>\n",
       "    </tr>\n",
       "  </thead>\n",
       "  <tbody>\n",
       "    <tr>\n",
       "      <th>0</th>\n",
       "      <td>https://www.claro.com.br/telefone-fixo/rural</td>\n",
       "    </tr>\n",
       "    <tr>\n",
       "      <th>1</th>\n",
       "      <td>https://www.claro.com.br/internet/rede-net-cla...</td>\n",
       "    </tr>\n",
       "    <tr>\n",
       "      <th>2</th>\n",
       "      <td>https://www.claro.com.br/atendimento/fale-com-...</td>\n",
       "    </tr>\n",
       "    <tr>\n",
       "      <th>3</th>\n",
       "      <td>https://www.claro.com.br/atendimento/renegocie...</td>\n",
       "    </tr>\n",
       "    <tr>\n",
       "      <th>4</th>\n",
       "      <td>https://www.claro.com.br/atendimento/solucoes-...</td>\n",
       "    </tr>\n",
       "  </tbody>\n",
       "</table>\n",
       "</div>"
      ],
      "text/plain": [
       "                                                urls\n",
       "0       https://www.claro.com.br/telefone-fixo/rural\n",
       "1  https://www.claro.com.br/internet/rede-net-cla...\n",
       "2  https://www.claro.com.br/atendimento/fale-com-...\n",
       "3  https://www.claro.com.br/atendimento/renegocie...\n",
       "4  https://www.claro.com.br/atendimento/solucoes-..."
      ]
     },
     "execution_count": 5,
     "metadata": {},
     "output_type": "execute_result"
    }
   ],
   "source": [
    "claro['urls'] = claro['urls'].astype(str)\n",
    "claro.head()"
   ]
  },
  {
   "cell_type": "code",
   "execution_count": 17,
   "metadata": {},
   "outputs": [
    {
     "data": {
      "text/plain": [
       "urls    https://www.claro.com.br/telefone-fixo/rural\n",
       "Name: 0, dtype: object"
      ]
     },
     "execution_count": 17,
     "metadata": {},
     "output_type": "execute_result"
    }
   ],
   "source": [
    "claro.iloc[0]"
   ]
  },
  {
   "cell_type": "code",
   "execution_count": 18,
   "metadata": {
    "collapsed": true
   },
   "outputs": [],
   "source": [
    "def crawl(url):\n",
    "    return requests.get(url)"
   ]
  },
  {
   "cell_type": "code",
   "execution_count": 19,
   "metadata": {
    "collapsed": true
   },
   "outputs": [],
   "source": [
    "# Download page\n",
    "page = crawl(claro.iloc[0,0])"
   ]
  },
  {
   "cell_type": "code",
   "execution_count": 20,
   "metadata": {},
   "outputs": [
    {
     "name": "stdout",
     "output_type": "stream",
     "text": [
      "502\n"
     ]
    }
   ],
   "source": [
    "# Check if status is 200, which means the request was successful\n",
    "print page.status_code"
   ]
  },
  {
   "cell_type": "code",
   "execution_count": 13,
   "metadata": {
    "collapsed": true
   },
   "outputs": [],
   "source": [
    "i = 0\n",
    "d = []\n",
    "gtm_tag = 'gtm.js'"
   ]
  },
  {
   "cell_type": "code",
   "execution_count": 16,
   "metadata": {},
   "outputs": [
    {
     "name": "stdout",
     "output_type": "stream",
     "text": [
      "Doest not have GTM\n",
      "Doest not have GTM\n",
      "Doest not have GTM\n",
      "Doest not have GTM\n",
      "Doest not have GTM\n",
      "Doest not have GTM\n",
      "Doest not have GTM\n",
      "Doest not have GTM\n",
      "Doest not have GTM\n",
      "Doest not have GTM\n",
      "Doest not have GTM\n",
      "Doest not have GTM\n",
      "Doest not have GTM\n",
      "Doest not have GTM\n",
      "Doest not have GTM\n",
      "Doest not have GTM\n",
      "Doest not have GTM\n",
      "Doest not have GTM\n",
      "Doest not have GTM\n",
      "Doest not have GTM\n",
      "Doest not have GTM\n",
      "Doest not have GTM\n",
      "Doest not have GTM\n",
      "Doest not have GTM\n",
      "Doest not have GTM\n",
      "Doest not have GTM\n",
      "Doest not have GTM\n",
      "Doest not have GTM\n",
      "Doest not have GTM\n",
      "Doest not have GTM\n",
      "Doest not have GTM\n",
      "Doest not have GTM\n",
      "Doest not have GTM\n",
      "Doest not have GTM\n",
      "Doest not have GTM\n",
      "Doest not have GTM\n",
      "Doest not have GTM\n",
      "Doest not have GTM\n",
      "Doest not have GTM\n",
      "Doest not have GTM\n",
      "Doest not have GTM\n",
      "Doest not have GTM\n",
      "Doest not have GTM\n",
      "Doest not have GTM\n",
      "Doest not have GTM\n",
      "Doest not have GTM\n",
      "Doest not have GTM\n",
      "Doest not have GTM\n",
      "Doest not have GTM\n",
      "Doest not have GTM\n",
      "Doest not have GTM\n",
      "Doest not have GTM\n",
      "Doest not have GTM\n",
      "Doest not have GTM\n",
      "Doest not have GTM\n",
      "Doest not have GTM\n",
      "Doest not have GTM\n",
      "Doest not have GTM\n",
      "Doest not have GTM\n",
      "Doest not have GTM\n",
      "Doest not have GTM\n",
      "Doest not have GTM\n",
      "Doest not have GTM\n",
      "Doest not have GTM\n",
      "Doest not have GTM\n",
      "Doest not have GTM\n",
      "Doest not have GTM\n",
      "Doest not have GTM\n",
      "Doest not have GTM\n",
      "Doest not have GTM\n",
      "Doest not have GTM\n",
      "Doest not have GTM\n",
      "Doest not have GTM\n",
      "Doest not have GTM\n",
      "Doest not have GTM\n",
      "Doest not have GTM\n",
      "Doest not have GTM\n",
      "Doest not have GTM\n",
      "Doest not have GTM\n",
      "Doest not have GTM\n",
      "Doest not have GTM\n",
      "Doest not have GTM\n"
     ]
    }
   ],
   "source": [
    "while i < len(claro):\n",
    "    try:\n",
    "        d = crawl(claro.iloc[i,0])\n",
    "        soup = bs(d.content, 'html.parser')\n",
    "        script = soup.find_all('script')\n",
    "        script_string = str(script)\n",
    "        if script_string.index(gtm_tag) <> '[]':\n",
    "            print 'Has GTM'\n",
    "    except ValueError:\n",
    "        print 'Doest not have GTM'\n",
    "    i = i + 1"
   ]
  },
  {
   "cell_type": "code",
   "execution_count": 15,
   "metadata": {},
   "outputs": [
    {
     "name": "stdout",
     "output_type": "stream",
     "text": [
      "<Response [502]>\n"
     ]
    }
   ],
   "source": [
    "print d"
   ]
  },
  {
   "cell_type": "code",
   "execution_count": null,
   "metadata": {
    "collapsed": true
   },
   "outputs": [],
   "source": []
  }
 ],
 "metadata": {
  "kernelspec": {
   "display_name": "Python 2",
   "language": "python",
   "name": "python2"
  },
  "language_info": {
   "codemirror_mode": {
    "name": "ipython",
    "version": 2
   },
   "file_extension": ".py",
   "mimetype": "text/x-python",
   "name": "python",
   "nbconvert_exporter": "python",
   "pygments_lexer": "ipython2",
   "version": "2.7.14"
  }
 },
 "nbformat": 4,
 "nbformat_minor": 2
}
