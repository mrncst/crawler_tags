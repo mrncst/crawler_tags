{
 "cells": [
  {
   "cell_type": "code",
   "execution_count": 2,
   "metadata": {
    "collapsed": true
   },
   "outputs": [],
   "source": [
    "# Code by Mariana Castilho\n",
    "# 03/03/2018\n",
    "# Import libraries\n",
    "from bs4 import BeautifulSoup as bs\n",
    "import requests\n",
    "import re\n",
    "from pprint import pprint\n",
    "import xml.etree.ElementTree as et\n",
    "import pandas as pd\n",
    "import numpy as np"
   ]
  },
  {
   "cell_type": "code",
   "execution_count": 3,
   "metadata": {
    "collapsed": true
   },
   "outputs": [],
   "source": [
    "# Read all the urls generated via sitemap\n",
    "claro = pd.read_excel('claro_urls.xlsx')"
   ]
  },
  {
   "cell_type": "code",
   "execution_count": 4,
   "metadata": {},
   "outputs": [
    {
     "data": {
      "text/html": [
       "<div>\n",
       "<style scoped>\n",
       "    .dataframe tbody tr th:only-of-type {\n",
       "        vertical-align: middle;\n",
       "    }\n",
       "\n",
       "    .dataframe tbody tr th {\n",
       "        vertical-align: top;\n",
       "    }\n",
       "\n",
       "    .dataframe thead th {\n",
       "        text-align: right;\n",
       "    }\n",
       "</style>\n",
       "<table border=\"1\" class=\"dataframe\">\n",
       "  <thead>\n",
       "    <tr style=\"text-align: right;\">\n",
       "      <th></th>\n",
       "      <th>urls</th>\n",
       "    </tr>\n",
       "  </thead>\n",
       "  <tbody>\n",
       "    <tr>\n",
       "      <th>0</th>\n",
       "      <td>https://www.claro.com.br/telefone-fixo/rural</td>\n",
       "    </tr>\n",
       "    <tr>\n",
       "      <th>1</th>\n",
       "      <td>https://www.claro.com.br/internet/rede-net-cla...</td>\n",
       "    </tr>\n",
       "    <tr>\n",
       "      <th>2</th>\n",
       "      <td>https://www.claro.com.br/atendimento/fale-com-...</td>\n",
       "    </tr>\n",
       "    <tr>\n",
       "      <th>3</th>\n",
       "      <td>https://www.claro.com.br/atendimento/renegocie...</td>\n",
       "    </tr>\n",
       "    <tr>\n",
       "      <th>4</th>\n",
       "      <td>https://www.claro.com.br/atendimento/solucoes-...</td>\n",
       "    </tr>\n",
       "  </tbody>\n",
       "</table>\n",
       "</div>"
      ],
      "text/plain": [
       "                                                urls\n",
       "0       https://www.claro.com.br/telefone-fixo/rural\n",
       "1  https://www.claro.com.br/internet/rede-net-cla...\n",
       "2  https://www.claro.com.br/atendimento/fale-com-...\n",
       "3  https://www.claro.com.br/atendimento/renegocie...\n",
       "4  https://www.claro.com.br/atendimento/solucoes-..."
      ]
     },
     "execution_count": 4,
     "metadata": {},
     "output_type": "execute_result"
    }
   ],
   "source": [
    "claro.head()"
   ]
  },
  {
   "cell_type": "code",
   "execution_count": 5,
   "metadata": {},
   "outputs": [
    {
     "data": {
      "text/html": [
       "<div>\n",
       "<style scoped>\n",
       "    .dataframe tbody tr th:only-of-type {\n",
       "        vertical-align: middle;\n",
       "    }\n",
       "\n",
       "    .dataframe tbody tr th {\n",
       "        vertical-align: top;\n",
       "    }\n",
       "\n",
       "    .dataframe thead th {\n",
       "        text-align: right;\n",
       "    }\n",
       "</style>\n",
       "<table border=\"1\" class=\"dataframe\">\n",
       "  <thead>\n",
       "    <tr style=\"text-align: right;\">\n",
       "      <th></th>\n",
       "      <th>urls</th>\n",
       "    </tr>\n",
       "  </thead>\n",
       "  <tbody>\n",
       "    <tr>\n",
       "      <th>0</th>\n",
       "      <td>https://www.claro.com.br/telefone-fixo/rural</td>\n",
       "    </tr>\n",
       "    <tr>\n",
       "      <th>1</th>\n",
       "      <td>https://www.claro.com.br/internet/rede-net-cla...</td>\n",
       "    </tr>\n",
       "    <tr>\n",
       "      <th>2</th>\n",
       "      <td>https://www.claro.com.br/atendimento/fale-com-...</td>\n",
       "    </tr>\n",
       "    <tr>\n",
       "      <th>3</th>\n",
       "      <td>https://www.claro.com.br/atendimento/renegocie...</td>\n",
       "    </tr>\n",
       "    <tr>\n",
       "      <th>4</th>\n",
       "      <td>https://www.claro.com.br/atendimento/solucoes-...</td>\n",
       "    </tr>\n",
       "  </tbody>\n",
       "</table>\n",
       "</div>"
      ],
      "text/plain": [
       "                                                urls\n",
       "0       https://www.claro.com.br/telefone-fixo/rural\n",
       "1  https://www.claro.com.br/internet/rede-net-cla...\n",
       "2  https://www.claro.com.br/atendimento/fale-com-...\n",
       "3  https://www.claro.com.br/atendimento/renegocie...\n",
       "4  https://www.claro.com.br/atendimento/solucoes-..."
      ]
     },
     "execution_count": 5,
     "metadata": {},
     "output_type": "execute_result"
    }
   ],
   "source": [
    "claro['urls'] = claro['urls'].astype(str)\n",
    "claro.head()"
   ]
  },
  {
   "cell_type": "code",
   "execution_count": 21,
   "metadata": {},
   "outputs": [
    {
     "data": {
      "text/plain": [
       "urls    https://www.claro.com.br/telefone-fixo/rural\n",
       "Name: 0, dtype: object"
      ]
     },
     "execution_count": 21,
     "metadata": {},
     "output_type": "execute_result"
    }
   ],
   "source": [
    "claro.iloc[0]"
   ]
  },
  {
   "cell_type": "code",
   "execution_count": 18,
   "metadata": {
    "collapsed": true
   },
   "outputs": [],
   "source": [
    "def crawl(url):\n",
    "    return requests.get(url)"
   ]
  },
  {
   "cell_type": "code",
   "execution_count": 22,
   "metadata": {
    "collapsed": true
   },
   "outputs": [],
   "source": [
    "# Download page\n",
    "page = crawl(claro.iloc[0,0])"
   ]
  },
  {
   "cell_type": "code",
   "execution_count": 61,
   "metadata": {},
   "outputs": [
    {
     "name": "stdout",
     "output_type": "stream",
     "text": [
      "502\n"
     ]
    }
   ],
   "source": [
    "# Check if status is 200, which means the request was successful\n",
    "print page.status_code"
   ]
  },
  {
   "cell_type": "code",
   "execution_count": 63,
   "metadata": {},
   "outputs": [],
   "source": [
    "# Creating necessary objects for while loop\n",
    "i = 0\n",
    "d = []\n",
    "gtm_tag = 'gtm.js'"
   ]
  },
  {
   "cell_type": "code",
   "execution_count": 64,
   "metadata": {},
   "outputs": [],
   "source": [
    "# Creating an emty list\n",
    "df = []"
   ]
  },
  {
   "cell_type": "code",
   "execution_count": 65,
   "metadata": {},
   "outputs": [
    {
     "name": "stdout",
     "output_type": "stream",
     "text": [
      "Has GTM\n",
      "Has GTM\n",
      "Has GTM\n",
      "Has GTM\n",
      "Has GTM\n",
      "Has GTM\n",
      "Has GTM\n",
      "Has GTM\n",
      "Has GTM\n",
      "Has GTM\n",
      "Has GTM\n",
      "Has GTM\n",
      "Has GTM\n",
      "Has GTM\n",
      "Has GTM\n",
      "Has GTM\n",
      "Has GTM\n",
      "Has GTM\n",
      "Has GTM\n",
      "Has GTM\n",
      "Has GTM\n",
      "Has GTM\n",
      "Has GTM\n",
      "Has GTM\n",
      "Has GTM\n",
      "Has GTM\n",
      "Has GTM\n",
      "Has GTM\n",
      "Has GTM\n",
      "Has GTM\n",
      "Does not have GTM\n",
      "Has GTM\n",
      "Has GTM\n",
      "Has GTM\n",
      "Has GTM\n",
      "Has GTM\n",
      "Has GTM\n",
      "Has GTM\n",
      "Has GTM\n",
      "Has GTM\n",
      "Has GTM\n",
      "Has GTM\n",
      "Has GTM\n",
      "Has GTM\n",
      "Has GTM\n",
      "Has GTM\n",
      "Has GTM\n",
      "Has GTM\n",
      "Has GTM\n",
      "Has GTM\n",
      "Has GTM\n",
      "Has GTM\n",
      "Has GTM\n",
      "Has GTM\n",
      "Has GTM\n",
      "Has GTM\n",
      "Has GTM\n",
      "Has GTM\n",
      "Has GTM\n",
      "Has GTM\n",
      "Has GTM\n",
      "Has GTM\n",
      "Has GTM\n",
      "Has GTM\n",
      "Has GTM\n",
      "Has GTM\n",
      "Has GTM\n",
      "Has GTM\n",
      "Has GTM\n",
      "Has GTM\n",
      "Has GTM\n",
      "Has GTM\n",
      "Has GTM\n",
      "Has GTM\n",
      "Has GTM\n",
      "Has GTM\n",
      "Has GTM\n",
      "Has GTM\n",
      "Has GTM\n",
      "Has GTM\n",
      "Has GTM\n",
      "Has GTM\n",
      "Has GTM\n"
     ]
    }
   ],
   "source": [
    "while i < len(claro):\n",
    "    try:\n",
    "        d = crawl(claro.iloc[i,0])\n",
    "        soup = bs(d.content, 'html.parser')\n",
    "        script = soup.find_all('script')\n",
    "        script_string = str(script)\n",
    "        if script_string.index(gtm_tag) <> '[]':\n",
    "            print 'Has GTM' \n",
    "            df.append(1)\n",
    "    except ValueError:\n",
    "        print 'Does not have GTM' \n",
    "        df.append(0)\n",
    "    i = i + 1"
   ]
  },
  {
   "cell_type": "code",
   "execution_count": 66,
   "metadata": {},
   "outputs": [
    {
     "name": "stdout",
     "output_type": "stream",
     "text": [
      "[1, 1, 1, 1, 1, 1, 1, 1, 1, 1, 1, 1, 1, 1, 1, 1, 1, 1, 1, 1, 1, 1, 1, 1, 1, 1, 1, 1, 1, 1, 0, 1, 1, 1, 1, 1, 1, 1, 1, 1, 1, 1, 1, 1, 1, 1, 1, 1, 1, 1, 1, 1, 1, 1, 1, 1, 1, 1, 1, 1, 1, 1, 1, 1, 1, 1, 1, 1, 1, 1, 1, 1, 1, 1, 1, 1, 1, 1, 1, 1, 1, 1, 1]\n"
     ]
    }
   ],
   "source": [
    "print df"
   ]
  },
  {
   "cell_type": "code",
   "execution_count": 67,
   "metadata": {},
   "outputs": [
    {
     "name": "stdout",
     "output_type": "stream",
     "text": [
      "    Check\n",
      "0       1\n",
      "1       1\n",
      "2       1\n",
      "3       1\n",
      "4       1\n",
      "5       1\n",
      "6       1\n",
      "7       1\n",
      "8       1\n",
      "9       1\n",
      "10      1\n",
      "11      1\n",
      "12      1\n",
      "13      1\n",
      "14      1\n",
      "15      1\n",
      "16      1\n",
      "17      1\n",
      "18      1\n",
      "19      1\n",
      "20      1\n",
      "21      1\n",
      "22      1\n",
      "23      1\n",
      "24      1\n",
      "25      1\n",
      "26      1\n",
      "27      1\n",
      "28      1\n",
      "29      1\n",
      "..    ...\n",
      "53      1\n",
      "54      1\n",
      "55      1\n",
      "56      1\n",
      "57      1\n",
      "58      1\n",
      "59      1\n",
      "60      1\n",
      "61      1\n",
      "62      1\n",
      "63      1\n",
      "64      1\n",
      "65      1\n",
      "66      1\n",
      "67      1\n",
      "68      1\n",
      "69      1\n",
      "70      1\n",
      "71      1\n",
      "72      1\n",
      "73      1\n",
      "74      1\n",
      "75      1\n",
      "76      1\n",
      "77      1\n",
      "78      1\n",
      "79      1\n",
      "80      1\n",
      "81      1\n",
      "82      1\n",
      "\n",
      "[83 rows x 1 columns]\n"
     ]
    }
   ],
   "source": [
    "df_done = pd.DataFrame(df)\n",
    "df_done.columns = ['Check']\n",
    "print df_done"
   ]
  },
  {
   "cell_type": "code",
   "execution_count": null,
   "metadata": {
    "collapsed": true
   },
   "outputs": [],
   "source": []
  }
 ],
 "metadata": {
  "kernelspec": {
   "display_name": "Python 2",
   "language": "python",
   "name": "python2"
  },
  "language_info": {
   "codemirror_mode": {
    "name": "ipython",
    "version": 2
   },
   "file_extension": ".py",
   "mimetype": "text/x-python",
   "name": "python",
   "nbconvert_exporter": "python",
   "pygments_lexer": "ipython2",
   "version": "2.7.14"
  }
 },
 "nbformat": 4,
 "nbformat_minor": 2
}
